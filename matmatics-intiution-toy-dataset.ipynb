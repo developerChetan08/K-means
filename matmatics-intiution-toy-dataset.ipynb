{
 "cells": [
  {
   "cell_type": "code",
   "execution_count": 1,
   "id": "300eaa40",
   "metadata": {},
   "outputs": [],
   "source": [
    "import numpy as np\n",
    "import pandas as pd\n",
    "import matplotlib.pyplot as plt\n",
    "import warnings\n",
    "warnings.filterwarnings(\"ignore\")"
   ]
  },
  {
   "cell_type": "code",
   "execution_count": 2,
   "id": "9d597239",
   "metadata": {},
   "outputs": [],
   "source": [
    "age = np.array([10, 12, 11, 13, 26, 28, 25, 29])\n",
    "spend = np.array([2, 1, 3, 1, 6, 9, 7, 8])"
   ]
  },
  {
   "cell_type": "code",
   "execution_count": 3,
   "id": "e8bcad49",
   "metadata": {},
   "outputs": [],
   "source": [
    "dict = {\"Age\":age, \"Spend_k\":spend}"
   ]
  },
  {
   "cell_type": "code",
   "execution_count": 4,
   "id": "337c2778",
   "metadata": {},
   "outputs": [],
   "source": [
    "df = pd.DataFrame(dict)"
   ]
  },
  {
   "cell_type": "code",
   "execution_count": 5,
   "id": "958ed3ce",
   "metadata": {},
   "outputs": [
    {
     "data": {
      "text/html": [
       "<div>\n",
       "<style scoped>\n",
       "    .dataframe tbody tr th:only-of-type {\n",
       "        vertical-align: middle;\n",
       "    }\n",
       "\n",
       "    .dataframe tbody tr th {\n",
       "        vertical-align: top;\n",
       "    }\n",
       "\n",
       "    .dataframe thead th {\n",
       "        text-align: right;\n",
       "    }\n",
       "</style>\n",
       "<table border=\"1\" class=\"dataframe\">\n",
       "  <thead>\n",
       "    <tr style=\"text-align: right;\">\n",
       "      <th></th>\n",
       "      <th>Age</th>\n",
       "      <th>Spend_k</th>\n",
       "    </tr>\n",
       "  </thead>\n",
       "  <tbody>\n",
       "    <tr>\n",
       "      <th>0</th>\n",
       "      <td>10</td>\n",
       "      <td>2</td>\n",
       "    </tr>\n",
       "    <tr>\n",
       "      <th>1</th>\n",
       "      <td>12</td>\n",
       "      <td>1</td>\n",
       "    </tr>\n",
       "    <tr>\n",
       "      <th>2</th>\n",
       "      <td>11</td>\n",
       "      <td>3</td>\n",
       "    </tr>\n",
       "    <tr>\n",
       "      <th>3</th>\n",
       "      <td>13</td>\n",
       "      <td>1</td>\n",
       "    </tr>\n",
       "    <tr>\n",
       "      <th>4</th>\n",
       "      <td>26</td>\n",
       "      <td>6</td>\n",
       "    </tr>\n",
       "  </tbody>\n",
       "</table>\n",
       "</div>"
      ],
      "text/plain": [
       "   Age  Spend_k\n",
       "0   10        2\n",
       "1   12        1\n",
       "2   11        3\n",
       "3   13        1\n",
       "4   26        6"
      ]
     },
     "execution_count": 5,
     "metadata": {},
     "output_type": "execute_result"
    }
   ],
   "source": [
    "df.head()"
   ]
  },
  {
   "cell_type": "markdown",
   "id": "a3cc2bf6",
   "metadata": {},
   "source": [
    "# Draw Scatter Plot:-"
   ]
  },
  {
   "cell_type": "code",
   "execution_count": 6,
   "id": "22b0f8b4",
   "metadata": {},
   "outputs": [
    {
     "data": {
      "image/png": "[encoded data removed]",
      "text/plain": [
       "<Figure size 400x300 with 1 Axes>"
      ]
     },
     "metadata": {},
     "output_type": "display_data"
    }
   ],
   "source": [
    "plt.figure(figsize=(4,3))\n",
    "plt.scatter(df[\"Age\"],df[\"Spend_k\"])\n",
    "plt.xlabel(\"Age\")\n",
    "plt.ylabel(\"Spend\")\n",
    "plt.show()"
   ]
  },
  {
   "cell_type": "markdown",
   "id": "e3704132",
   "metadata": {},
   "source": [
    "# Create 2 Random Centroids Points:-"
   ]
  },
  {
   "cell_type": "markdown",
   "id": "ddd94b65",
   "metadata": {},
   "source": [
    "1st Centroids Points"
   ]
  },
  {
   "cell_type": "code",
   "execution_count": 7,
   "id": "77948dec",
   "metadata": {},
   "outputs": [
    {
     "data": {
      "text/plain": [
       "Age        12\n",
       "Spend_k     1\n",
       "Name: 1, dtype: int32"
      ]
     },
     "execution_count": 7,
     "metadata": {},
     "output_type": "execute_result"
    }
   ],
   "source": [
    "first_cent_1 = df.iloc[1]\n",
    "first_cent_1"
   ]
  },
  {
   "cell_type": "markdown",
   "id": "1f8c94b6",
   "metadata": {},
   "source": [
    "2nd Centroids Points"
   ]
  },
  {
   "cell_type": "code",
   "execution_count": 8,
   "id": "8a9d39bb",
   "metadata": {},
   "outputs": [
    {
     "data": {
      "text/plain": [
       "Age        26\n",
       "Spend_k     6\n",
       "Name: 4, dtype: int32"
      ]
     },
     "execution_count": 8,
     "metadata": {},
     "output_type": "execute_result"
    }
   ],
   "source": [
    "first_cent_2 = df.iloc[4]\n",
    "first_cent_2"
   ]
  },
  {
   "cell_type": "markdown",
   "id": "c62b3c59",
   "metadata": {},
   "source": [
    "# Find Distance By Euclidain Distance:-"
   ]
  },
  {
   "cell_type": "code",
   "execution_count": 9,
   "id": "63989331",
   "metadata": {},
   "outputs": [
    {
     "data": {
      "text/plain": [
       "[2.23606797749979,\n",
       " 0.0,\n",
       " 2.23606797749979,\n",
       " 1.0,\n",
       " 14.866068747318506,\n",
       " 17.88854381999832,\n",
       " 14.317821063276353,\n",
       " 18.384776310850235]"
      ]
     },
     "execution_count": 9,
     "metadata": {},
     "output_type": "execute_result"
    }
   ],
   "source": [
    "first_cent_1_ls = []\n",
    "for i in range(8):\n",
    "    pc1 = np.sqrt((first_cent_1[0]-df.iloc[i][0])**2 + (first_cent_1[1]-df.iloc[i][1])**2)\n",
    "    first_cent_1_ls.append(pc1)\n",
    "first_cent_1_ls"
   ]
  },
  {
   "cell_type": "code",
   "execution_count": 10,
   "id": "4a91f326",
   "metadata": {},
   "outputs": [
    {
     "data": {
      "text/plain": [
       "[16.492422502470642,\n",
       " 14.866068747318506,\n",
       " 15.297058540778355,\n",
       " 13.92838827718412,\n",
       " 0.0,\n",
       " 3.605551275463989,\n",
       " 1.4142135623730951,\n",
       " 3.605551275463989]"
      ]
     },
     "execution_count": 10,
     "metadata": {},
     "output_type": "execute_result"
    }
   ],
   "source": [
    "first_cent_2_ls = []\n",
    "for i in range(8):\n",
    "    pc1 = np.sqrt((first_cent_2[0]-df.iloc[i][0])**2 + (first_cent_2[1]-df.iloc[i][1])**2)\n",
    "    first_cent_2_ls.append(pc1)\n",
    "first_cent_2_ls"
   ]
  },
  {
   "cell_type": "markdown",
   "id": "09c33ebb",
   "metadata": {},
   "source": [
    "# Create a New DataFrame:-"
   ]
  },
  {
   "cell_type": "code",
   "execution_count": 11,
   "id": "e0740b0d",
   "metadata": {},
   "outputs": [],
   "source": [
    "df1 = df.copy()"
   ]
  },
  {
   "cell_type": "markdown",
   "id": "7bdf0e1f",
   "metadata": {},
   "source": [
    "# Create 2 New Col and Add Centriod 1 & Centriod 2 in DataFrame:-"
   ]
  },
  {
   "cell_type": "code",
   "execution_count": 12,
   "id": "092ee24d",
   "metadata": {},
   "outputs": [],
   "source": [
    "df1[\"first_Cent_1\"] = first_cent_1_ls\n",
    "df1[\"first_Cent_2\"] = first_cent_2_ls"
   ]
  },
  {
   "cell_type": "code",
   "execution_count": 13,
   "id": "46cf3067",
   "metadata": {},
   "outputs": [
    {
     "data": {
      "text/html": [
       "<div>\n",
       "<style scoped>\n",
       "    .dataframe tbody tr th:only-of-type {\n",
       "        vertical-align: middle;\n",
       "    }\n",
       "\n",
       "    .dataframe tbody tr th {\n",
       "        vertical-align: top;\n",
       "    }\n",
       "\n",
       "    .dataframe thead th {\n",
       "        text-align: right;\n",
       "    }\n",
       "</style>\n",
       "<table border=\"1\" class=\"dataframe\">\n",
       "  <thead>\n",
       "    <tr style=\"text-align: right;\">\n",
       "      <th></th>\n",
       "      <th>Age</th>\n",
       "      <th>Spend_k</th>\n",
       "      <th>first_Cent_1</th>\n",
       "      <th>first_Cent_2</th>\n",
       "    </tr>\n",
       "  </thead>\n",
       "  <tbody>\n",
       "    <tr>\n",
       "      <th>0</th>\n",
       "      <td>10</td>\n",
       "      <td>2</td>\n",
       "      <td>2.236068</td>\n",
       "      <td>16.492423</td>\n",
       "    </tr>\n",
       "    <tr>\n",
       "      <th>1</th>\n",
       "      <td>12</td>\n",
       "      <td>1</td>\n",
       "      <td>0.000000</td>\n",
       "      <td>14.866069</td>\n",
       "    </tr>\n",
       "    <tr>\n",
       "      <th>2</th>\n",
       "      <td>11</td>\n",
       "      <td>3</td>\n",
       "      <td>2.236068</td>\n",
       "      <td>15.297059</td>\n",
       "    </tr>\n",
       "    <tr>\n",
       "      <th>3</th>\n",
       "      <td>13</td>\n",
       "      <td>1</td>\n",
       "      <td>1.000000</td>\n",
       "      <td>13.928388</td>\n",
       "    </tr>\n",
       "    <tr>\n",
       "      <th>4</th>\n",
       "      <td>26</td>\n",
       "      <td>6</td>\n",
       "      <td>14.866069</td>\n",
       "      <td>0.000000</td>\n",
       "    </tr>\n",
       "    <tr>\n",
       "      <th>5</th>\n",
       "      <td>28</td>\n",
       "      <td>9</td>\n",
       "      <td>17.888544</td>\n",
       "      <td>3.605551</td>\n",
       "    </tr>\n",
       "    <tr>\n",
       "      <th>6</th>\n",
       "      <td>25</td>\n",
       "      <td>7</td>\n",
       "      <td>14.317821</td>\n",
       "      <td>1.414214</td>\n",
       "    </tr>\n",
       "    <tr>\n",
       "      <th>7</th>\n",
       "      <td>29</td>\n",
       "      <td>8</td>\n",
       "      <td>18.384776</td>\n",
       "      <td>3.605551</td>\n",
       "    </tr>\n",
       "  </tbody>\n",
       "</table>\n",
       "</div>"
      ],
      "text/plain": [
       "   Age  Spend_k  first_Cent_1  first_Cent_2\n",
       "0   10        2      2.236068     16.492423\n",
       "1   12        1      0.000000     14.866069\n",
       "2   11        3      2.236068     15.297059\n",
       "3   13        1      1.000000     13.928388\n",
       "4   26        6     14.866069      0.000000\n",
       "5   28        9     17.888544      3.605551\n",
       "6   25        7     14.317821      1.414214\n",
       "7   29        8     18.384776      3.605551"
      ]
     },
     "execution_count": 13,
     "metadata": {},
     "output_type": "execute_result"
    }
   ],
   "source": [
    "df1"
   ]
  },
  {
   "cell_type": "markdown",
   "id": "e1746688",
   "metadata": {},
   "source": [
    "# Create Cluster:-"
   ]
  },
  {
   "cell_type": "code",
   "execution_count": 14,
   "id": "68c15e4f",
   "metadata": {},
   "outputs": [],
   "source": [
    "clu = []\n",
    "for i in range(len(df1)):\n",
    "    a = df1.iloc[i,2:]\n",
    "    clu.append(a.index[np.argmin(df1.iloc[i,2:])])"
   ]
  },
  {
   "cell_type": "code",
   "execution_count": 15,
   "id": "60179395",
   "metadata": {},
   "outputs": [],
   "source": [
    "df1[\"1st Cluster\"] = clu"
   ]
  },
  {
   "cell_type": "code",
   "execution_count": 16,
   "id": "f0e25841",
   "metadata": {},
   "outputs": [
    {
     "data": {
      "text/html": [
       "<div>\n",
       "<style scoped>\n",
       "    .dataframe tbody tr th:only-of-type {\n",
       "        vertical-align: middle;\n",
       "    }\n",
       "\n",
       "    .dataframe tbody tr th {\n",
       "        vertical-align: top;\n",
       "    }\n",
       "\n",
       "    .dataframe thead th {\n",
       "        text-align: right;\n",
       "    }\n",
       "</style>\n",
       "<table border=\"1\" class=\"dataframe\">\n",
       "  <thead>\n",
       "    <tr style=\"text-align: right;\">\n",
       "      <th></th>\n",
       "      <th>Age</th>\n",
       "      <th>Spend_k</th>\n",
       "      <th>first_Cent_1</th>\n",
       "      <th>first_Cent_2</th>\n",
       "      <th>1st Cluster</th>\n",
       "    </tr>\n",
       "  </thead>\n",
       "  <tbody>\n",
       "    <tr>\n",
       "      <th>0</th>\n",
       "      <td>10</td>\n",
       "      <td>2</td>\n",
       "      <td>2.236068</td>\n",
       "      <td>16.492423</td>\n",
       "      <td>first_Cent_1</td>\n",
       "    </tr>\n",
       "    <tr>\n",
       "      <th>1</th>\n",
       "      <td>12</td>\n",
       "      <td>1</td>\n",
       "      <td>0.000000</td>\n",
       "      <td>14.866069</td>\n",
       "      <td>first_Cent_1</td>\n",
       "    </tr>\n",
       "    <tr>\n",
       "      <th>2</th>\n",
       "      <td>11</td>\n",
       "      <td>3</td>\n",
       "      <td>2.236068</td>\n",
       "      <td>15.297059</td>\n",
       "      <td>first_Cent_1</td>\n",
       "    </tr>\n",
       "    <tr>\n",
       "      <th>3</th>\n",
       "      <td>13</td>\n",
       "      <td>1</td>\n",
       "      <td>1.000000</td>\n",
       "      <td>13.928388</td>\n",
       "      <td>first_Cent_1</td>\n",
       "    </tr>\n",
       "    <tr>\n",
       "      <th>4</th>\n",
       "      <td>26</td>\n",
       "      <td>6</td>\n",
       "      <td>14.866069</td>\n",
       "      <td>0.000000</td>\n",
       "      <td>first_Cent_2</td>\n",
       "    </tr>\n",
       "    <tr>\n",
       "      <th>5</th>\n",
       "      <td>28</td>\n",
       "      <td>9</td>\n",
       "      <td>17.888544</td>\n",
       "      <td>3.605551</td>\n",
       "      <td>first_Cent_2</td>\n",
       "    </tr>\n",
       "    <tr>\n",
       "      <th>6</th>\n",
       "      <td>25</td>\n",
       "      <td>7</td>\n",
       "      <td>14.317821</td>\n",
       "      <td>1.414214</td>\n",
       "      <td>first_Cent_2</td>\n",
       "    </tr>\n",
       "    <tr>\n",
       "      <th>7</th>\n",
       "      <td>29</td>\n",
       "      <td>8</td>\n",
       "      <td>18.384776</td>\n",
       "      <td>3.605551</td>\n",
       "      <td>first_Cent_2</td>\n",
       "    </tr>\n",
       "  </tbody>\n",
       "</table>\n",
       "</div>"
      ],
      "text/plain": [
       "   Age  Spend_k  first_Cent_1  first_Cent_2   1st Cluster\n",
       "0   10        2      2.236068     16.492423  first_Cent_1\n",
       "1   12        1      0.000000     14.866069  first_Cent_1\n",
       "2   11        3      2.236068     15.297059  first_Cent_1\n",
       "3   13        1      1.000000     13.928388  first_Cent_1\n",
       "4   26        6     14.866069      0.000000  first_Cent_2\n",
       "5   28        9     17.888544      3.605551  first_Cent_2\n",
       "6   25        7     14.317821      1.414214  first_Cent_2\n",
       "7   29        8     18.384776      3.605551  first_Cent_2"
      ]
     },
     "execution_count": 16,
     "metadata": {},
     "output_type": "execute_result"
    }
   ],
   "source": [
    "df1"
   ]
  },
  {
   "cell_type": "markdown",
   "id": "a29b8555",
   "metadata": {},
   "source": [
    "# Draw 1st Centroid Point IN Scatter Plot:-"
   ]
  },
  {
   "cell_type": "code",
   "execution_count": 17,
   "id": "06f4230c",
   "metadata": {},
   "outputs": [
    {
     "data": {
      "image/png": "[encoded data removed]",
      "text/plain": [
       "<Figure size 640x480 with 1 Axes>"
      ]
     },
     "metadata": {},
     "output_type": "display_data"
    }
   ],
   "source": [
    "plt.scatter(df1[\"Age\"], df1[\"Spend_k\"])\n",
    "plt.scatter(first_cent_1[0], first_cent_1[1], color=\"red\")\n",
    "plt.scatter(first_cent_2[0], first_cent_2[1], color=\"red\")\n",
    "plt.show()"
   ]
  },
  {
   "cell_type": "markdown",
   "id": "f5d80365",
   "metadata": {},
   "source": [
    "# Again Find New 2nd Centroid Point:-"
   ]
  },
  {
   "cell_type": "code",
   "execution_count": 18,
   "id": "7b12cf46",
   "metadata": {},
   "outputs": [
    {
     "data": {
      "text/plain": [
       "Age        11.50\n",
       "Spend_k     1.75\n",
       "dtype: float64"
      ]
     },
     "execution_count": 18,
     "metadata": {},
     "output_type": "execute_result"
    }
   ],
   "source": [
    "second_cent_1 = df1[[\"Age\",\"Spend_k\"]][df1[\"1st Cluster\"]==\"first_Cent_1\"].mean()\n",
    "second_cent_1"
   ]
  },
  {
   "cell_type": "code",
   "execution_count": 19,
   "id": "3c0133e0",
   "metadata": {},
   "outputs": [
    {
     "data": {
      "text/plain": [
       "Age        27.0\n",
       "Spend_k     7.5\n",
       "dtype: float64"
      ]
     },
     "execution_count": 19,
     "metadata": {},
     "output_type": "execute_result"
    }
   ],
   "source": [
    "second_cent_2 = df1[[\"Age\",\"Spend_k\"]][df1[\"1st Cluster\"]==\"first_Cent_2\"].mean()\n",
    "second_cent_2"
   ]
  },
  {
   "cell_type": "markdown",
   "id": "80745e0c",
   "metadata": {},
   "source": [
    "# Second Time Find Distance By Euclidain Distance:-"
   ]
  },
  {
   "cell_type": "code",
   "execution_count": 20,
   "id": "752d86c0",
   "metadata": {},
   "outputs": [
    {
     "data": {
      "text/plain": [
       "[1.5206906325745548,\n",
       " 0.9013878188659973,\n",
       " 1.346291201783626,\n",
       " 1.6770509831248424,\n",
       " 15.110013236261576,\n",
       " 18.02255531271856,\n",
       " 14.484905936870975,\n",
       " 18.58258593414813]"
      ]
     },
     "execution_count": 20,
     "metadata": {},
     "output_type": "execute_result"
    }
   ],
   "source": [
    "second_cent_1_ls = []\n",
    "for i in range(8):\n",
    "    pc1 = np.sqrt((second_cent_1[0]-df.iloc[i][0])**2 + (second_cent_1[1]-df.iloc[i][1])**2)\n",
    "    second_cent_1_ls.append(pc1)\n",
    "second_cent_1_ls"
   ]
  },
  {
   "cell_type": "code",
   "execution_count": 21,
   "id": "1acc4499",
   "metadata": {},
   "outputs": [
    {
     "data": {
      "text/plain": [
       "[17.867568385205637,\n",
       " 16.347782724271816,\n",
       " 16.62077013859466,\n",
       " 15.435349040433131,\n",
       " 1.8027756377319946,\n",
       " 1.8027756377319946,\n",
       " 2.0615528128088303,\n",
       " 2.0615528128088303]"
      ]
     },
     "execution_count": 21,
     "metadata": {},
     "output_type": "execute_result"
    }
   ],
   "source": [
    "second_cent_2_ls = []\n",
    "for i in range(8):\n",
    "    pc1 = np.sqrt((second_cent_2[0]-df.iloc[i][0])**2 + (second_cent_2[1]-df.iloc[i][1])**2)\n",
    "    second_cent_2_ls.append(pc1)\n",
    "second_cent_2_ls"
   ]
  },
  {
   "cell_type": "markdown",
   "id": "ad57ce57",
   "metadata": {},
   "source": [
    "# Create 2 New Col and Add Second Centriod 1 & Second Centriod 2 in DataFrame:-"
   ]
  },
  {
   "cell_type": "code",
   "execution_count": 22,
   "id": "b3a97011",
   "metadata": {},
   "outputs": [],
   "source": [
    "df1[\"second_Cent_1\"] = second_cent_1_ls\n",
    "df1[\"second_Cent_2\"] = second_cent_2_ls"
   ]
  },
  {
   "cell_type": "code",
   "execution_count": 23,
   "id": "09653b61",
   "metadata": {},
   "outputs": [
    {
     "data": {
      "text/html": [
       "<div>\n",
       "<style scoped>\n",
       "    .dataframe tbody tr th:only-of-type {\n",
       "        vertical-align: middle;\n",
       "    }\n",
       "\n",
       "    .dataframe tbody tr th {\n",
       "        vertical-align: top;\n",
       "    }\n",
       "\n",
       "    .dataframe thead th {\n",
       "        text-align: right;\n",
       "    }\n",
       "</style>\n",
       "<table border=\"1\" class=\"dataframe\">\n",
       "  <thead>\n",
       "    <tr style=\"text-align: right;\">\n",
       "      <th></th>\n",
       "      <th>Age</th>\n",
       "      <th>Spend_k</th>\n",
       "      <th>first_Cent_1</th>\n",
       "      <th>first_Cent_2</th>\n",
       "      <th>1st Cluster</th>\n",
       "      <th>second_Cent_1</th>\n",
       "      <th>second_Cent_2</th>\n",
       "    </tr>\n",
       "  </thead>\n",
       "  <tbody>\n",
       "    <tr>\n",
       "      <th>0</th>\n",
       "      <td>10</td>\n",
       "      <td>2</td>\n",
       "      <td>2.236068</td>\n",
       "      <td>16.492423</td>\n",
       "      <td>first_Cent_1</td>\n",
       "      <td>1.520691</td>\n",
       "      <td>17.867568</td>\n",
       "    </tr>\n",
       "    <tr>\n",
       "      <th>1</th>\n",
       "      <td>12</td>\n",
       "      <td>1</td>\n",
       "      <td>0.000000</td>\n",
       "      <td>14.866069</td>\n",
       "      <td>first_Cent_1</td>\n",
       "      <td>0.901388</td>\n",
       "      <td>16.347783</td>\n",
       "    </tr>\n",
       "    <tr>\n",
       "      <th>2</th>\n",
       "      <td>11</td>\n",
       "      <td>3</td>\n",
       "      <td>2.236068</td>\n",
       "      <td>15.297059</td>\n",
       "      <td>first_Cent_1</td>\n",
       "      <td>1.346291</td>\n",
       "      <td>16.620770</td>\n",
       "    </tr>\n",
       "    <tr>\n",
       "      <th>3</th>\n",
       "      <td>13</td>\n",
       "      <td>1</td>\n",
       "      <td>1.000000</td>\n",
       "      <td>13.928388</td>\n",
       "      <td>first_Cent_1</td>\n",
       "      <td>1.677051</td>\n",
       "      <td>15.435349</td>\n",
       "    </tr>\n",
       "    <tr>\n",
       "      <th>4</th>\n",
       "      <td>26</td>\n",
       "      <td>6</td>\n",
       "      <td>14.866069</td>\n",
       "      <td>0.000000</td>\n",
       "      <td>first_Cent_2</td>\n",
       "      <td>15.110013</td>\n",
       "      <td>1.802776</td>\n",
       "    </tr>\n",
       "    <tr>\n",
       "      <th>5</th>\n",
       "      <td>28</td>\n",
       "      <td>9</td>\n",
       "      <td>17.888544</td>\n",
       "      <td>3.605551</td>\n",
       "      <td>first_Cent_2</td>\n",
       "      <td>18.022555</td>\n",
       "      <td>1.802776</td>\n",
       "    </tr>\n",
       "    <tr>\n",
       "      <th>6</th>\n",
       "      <td>25</td>\n",
       "      <td>7</td>\n",
       "      <td>14.317821</td>\n",
       "      <td>1.414214</td>\n",
       "      <td>first_Cent_2</td>\n",
       "      <td>14.484906</td>\n",
       "      <td>2.061553</td>\n",
       "    </tr>\n",
       "    <tr>\n",
       "      <th>7</th>\n",
       "      <td>29</td>\n",
       "      <td>8</td>\n",
       "      <td>18.384776</td>\n",
       "      <td>3.605551</td>\n",
       "      <td>first_Cent_2</td>\n",
       "      <td>18.582586</td>\n",
       "      <td>2.061553</td>\n",
       "    </tr>\n",
       "  </tbody>\n",
       "</table>\n",
       "</div>"
      ],
      "text/plain": [
       "   Age  Spend_k  first_Cent_1  first_Cent_2   1st Cluster  second_Cent_1  \\\n",
       "0   10        2      2.236068     16.492423  first_Cent_1       1.520691   \n",
       "1   12        1      0.000000     14.866069  first_Cent_1       0.901388   \n",
       "2   11        3      2.236068     15.297059  first_Cent_1       1.346291   \n",
       "3   13        1      1.000000     13.928388  first_Cent_1       1.677051   \n",
       "4   26        6     14.866069      0.000000  first_Cent_2      15.110013   \n",
       "5   28        9     17.888544      3.605551  first_Cent_2      18.022555   \n",
       "6   25        7     14.317821      1.414214  first_Cent_2      14.484906   \n",
       "7   29        8     18.384776      3.605551  first_Cent_2      18.582586   \n",
       "\n",
       "   second_Cent_2  \n",
       "0      17.867568  \n",
       "1      16.347783  \n",
       "2      16.620770  \n",
       "3      15.435349  \n",
       "4       1.802776  \n",
       "5       1.802776  \n",
       "6       2.061553  \n",
       "7       2.061553  "
      ]
     },
     "execution_count": 23,
     "metadata": {},
     "output_type": "execute_result"
    }
   ],
   "source": [
    "df1"
   ]
  },
  {
   "cell_type": "markdown",
   "id": "3db9e355",
   "metadata": {},
   "source": [
    "# Second Create Cluster:-"
   ]
  },
  {
   "cell_type": "code",
   "execution_count": 24,
   "id": "02323f50",
   "metadata": {},
   "outputs": [],
   "source": [
    "clu2 = []\n",
    "for i in range(len(df1)):\n",
    "    a = df1.iloc[i,5:]\n",
    "    clu2.append(a.index[np.argmin(df1.iloc[i,5:])])"
   ]
  },
  {
   "cell_type": "code",
   "execution_count": 25,
   "id": "7dd8ae23",
   "metadata": {},
   "outputs": [],
   "source": [
    "df1[\"2nd Cluster\"] = clu2"
   ]
  },
  {
   "cell_type": "code",
   "execution_count": 26,
   "id": "6a642711",
   "metadata": {},
   "outputs": [
    {
     "data": {
      "text/html": [
       "<div>\n",
       "<style scoped>\n",
       "    .dataframe tbody tr th:only-of-type {\n",
       "        vertical-align: middle;\n",
       "    }\n",
       "\n",
       "    .dataframe tbody tr th {\n",
       "        vertical-align: top;\n",
       "    }\n",
       "\n",
       "    .dataframe thead th {\n",
       "        text-align: right;\n",
       "    }\n",
       "</style>\n",
       "<table border=\"1\" class=\"dataframe\">\n",
       "  <thead>\n",
       "    <tr style=\"text-align: right;\">\n",
       "      <th></th>\n",
       "      <th>Age</th>\n",
       "      <th>Spend_k</th>\n",
       "      <th>first_Cent_1</th>\n",
       "      <th>first_Cent_2</th>\n",
       "      <th>1st Cluster</th>\n",
       "      <th>second_Cent_1</th>\n",
       "      <th>second_Cent_2</th>\n",
       "      <th>2nd Cluster</th>\n",
       "    </tr>\n",
       "  </thead>\n",
       "  <tbody>\n",
       "    <tr>\n",
       "      <th>0</th>\n",
       "      <td>10</td>\n",
       "      <td>2</td>\n",
       "      <td>2.236068</td>\n",
       "      <td>16.492423</td>\n",
       "      <td>first_Cent_1</td>\n",
       "      <td>1.520691</td>\n",
       "      <td>17.867568</td>\n",
       "      <td>second_Cent_1</td>\n",
       "    </tr>\n",
       "    <tr>\n",
       "      <th>1</th>\n",
       "      <td>12</td>\n",
       "      <td>1</td>\n",
       "      <td>0.000000</td>\n",
       "      <td>14.866069</td>\n",
       "      <td>first_Cent_1</td>\n",
       "      <td>0.901388</td>\n",
       "      <td>16.347783</td>\n",
       "      <td>second_Cent_1</td>\n",
       "    </tr>\n",
       "    <tr>\n",
       "      <th>2</th>\n",
       "      <td>11</td>\n",
       "      <td>3</td>\n",
       "      <td>2.236068</td>\n",
       "      <td>15.297059</td>\n",
       "      <td>first_Cent_1</td>\n",
       "      <td>1.346291</td>\n",
       "      <td>16.620770</td>\n",
       "      <td>second_Cent_1</td>\n",
       "    </tr>\n",
       "    <tr>\n",
       "      <th>3</th>\n",
       "      <td>13</td>\n",
       "      <td>1</td>\n",
       "      <td>1.000000</td>\n",
       "      <td>13.928388</td>\n",
       "      <td>first_Cent_1</td>\n",
       "      <td>1.677051</td>\n",
       "      <td>15.435349</td>\n",
       "      <td>second_Cent_1</td>\n",
       "    </tr>\n",
       "    <tr>\n",
       "      <th>4</th>\n",
       "      <td>26</td>\n",
       "      <td>6</td>\n",
       "      <td>14.866069</td>\n",
       "      <td>0.000000</td>\n",
       "      <td>first_Cent_2</td>\n",
       "      <td>15.110013</td>\n",
       "      <td>1.802776</td>\n",
       "      <td>second_Cent_2</td>\n",
       "    </tr>\n",
       "    <tr>\n",
       "      <th>5</th>\n",
       "      <td>28</td>\n",
       "      <td>9</td>\n",
       "      <td>17.888544</td>\n",
       "      <td>3.605551</td>\n",
       "      <td>first_Cent_2</td>\n",
       "      <td>18.022555</td>\n",
       "      <td>1.802776</td>\n",
       "      <td>second_Cent_2</td>\n",
       "    </tr>\n",
       "    <tr>\n",
       "      <th>6</th>\n",
       "      <td>25</td>\n",
       "      <td>7</td>\n",
       "      <td>14.317821</td>\n",
       "      <td>1.414214</td>\n",
       "      <td>first_Cent_2</td>\n",
       "      <td>14.484906</td>\n",
       "      <td>2.061553</td>\n",
       "      <td>second_Cent_2</td>\n",
       "    </tr>\n",
       "    <tr>\n",
       "      <th>7</th>\n",
       "      <td>29</td>\n",
       "      <td>8</td>\n",
       "      <td>18.384776</td>\n",
       "      <td>3.605551</td>\n",
       "      <td>first_Cent_2</td>\n",
       "      <td>18.582586</td>\n",
       "      <td>2.061553</td>\n",
       "      <td>second_Cent_2</td>\n",
       "    </tr>\n",
       "  </tbody>\n",
       "</table>\n",
       "</div>"
      ],
      "text/plain": [
       "   Age  Spend_k  first_Cent_1  first_Cent_2   1st Cluster  second_Cent_1  \\\n",
       "0   10        2      2.236068     16.492423  first_Cent_1       1.520691   \n",
       "1   12        1      0.000000     14.866069  first_Cent_1       0.901388   \n",
       "2   11        3      2.236068     15.297059  first_Cent_1       1.346291   \n",
       "3   13        1      1.000000     13.928388  first_Cent_1       1.677051   \n",
       "4   26        6     14.866069      0.000000  first_Cent_2      15.110013   \n",
       "5   28        9     17.888544      3.605551  first_Cent_2      18.022555   \n",
       "6   25        7     14.317821      1.414214  first_Cent_2      14.484906   \n",
       "7   29        8     18.384776      3.605551  first_Cent_2      18.582586   \n",
       "\n",
       "   second_Cent_2    2nd Cluster  \n",
       "0      17.867568  second_Cent_1  \n",
       "1      16.347783  second_Cent_1  \n",
       "2      16.620770  second_Cent_1  \n",
       "3      15.435349  second_Cent_1  \n",
       "4       1.802776  second_Cent_2  \n",
       "5       1.802776  second_Cent_2  \n",
       "6       2.061553  second_Cent_2  \n",
       "7       2.061553  second_Cent_2  "
      ]
     },
     "execution_count": 26,
     "metadata": {},
     "output_type": "execute_result"
    }
   ],
   "source": [
    "df1"
   ]
  },
  {
   "cell_type": "markdown",
   "id": "48e09d6f",
   "metadata": {},
   "source": [
    "# Draw 2nd Centroid Point IN Scatter Plot:-"
   ]
  },
  {
   "cell_type": "code",
   "execution_count": 27,
   "id": "972409fa",
   "metadata": {},
   "outputs": [
    {
     "data": {
      "image/png": "[encoded data removed]",
      "text/plain": [
       "<Figure size 640x480 with 1 Axes>"
      ]
     },
     "metadata": {},
     "output_type": "display_data"
    }
   ],
   "source": [
    "plt.scatter(df1[\"Age\"], df1[\"Spend_k\"])\n",
    "plt.scatter(first_cent_1[0], first_cent_1[1], color=\"red\")\n",
    "plt.scatter(first_cent_2[0], first_cent_2[1], color=\"red\")\n",
    "\n",
    "plt.scatter(second_cent_1[0], second_cent_1[1], color=\"blue\")\n",
    "plt.scatter(second_cent_2[0], second_cent_2[1], color=\"blue\")\n",
    "plt.show()"
   ]
  },
  {
   "cell_type": "markdown",
   "id": "ba809082",
   "metadata": {},
   "source": [
    "# Again Find New 3rd Centroid Point:-"
   ]
  },
  {
   "cell_type": "code",
   "execution_count": 28,
   "id": "4ff67557",
   "metadata": {},
   "outputs": [
    {
     "data": {
      "text/plain": [
       "Age        11.50\n",
       "Spend_k     1.75\n",
       "dtype: float64"
      ]
     },
     "execution_count": 28,
     "metadata": {},
     "output_type": "execute_result"
    }
   ],
   "source": [
    "third_cent_1 = df1[[\"Age\",\"Spend_k\"]][df1[\"2nd Cluster\"]==\"second_Cent_1\"].mean()\n",
    "third_cent_1"
   ]
  },
  {
   "cell_type": "code",
   "execution_count": 29,
   "id": "3a4a36cc",
   "metadata": {},
   "outputs": [
    {
     "data": {
      "text/plain": [
       "Age        27.0\n",
       "Spend_k     7.5\n",
       "dtype: float64"
      ]
     },
     "execution_count": 29,
     "metadata": {},
     "output_type": "execute_result"
    }
   ],
   "source": [
    "third_cent_2 = df1[[\"Age\",\"Spend_k\"]][df1[\"2nd Cluster\"]==\"second_Cent_2\"].mean()\n",
    "third_cent_2"
   ]
  },
  {
   "cell_type": "markdown",
   "id": "d75447e4",
   "metadata": {},
   "source": [
    "# Third Time Find Distance By Euclidain Distance:-"
   ]
  },
  {
   "cell_type": "code",
   "execution_count": 30,
   "id": "23a753b3",
   "metadata": {},
   "outputs": [
    {
     "data": {
      "text/plain": [
       "[1.5206906325745548,\n",
       " 0.9013878188659973,\n",
       " 1.346291201783626,\n",
       " 1.6770509831248424,\n",
       " 15.110013236261576,\n",
       " 18.02255531271856,\n",
       " 14.484905936870975,\n",
       " 18.58258593414813]"
      ]
     },
     "execution_count": 30,
     "metadata": {},
     "output_type": "execute_result"
    }
   ],
   "source": [
    "third_cent_1_ls = []\n",
    "for i in range(8):\n",
    "    pc1 = np.sqrt((third_cent_1[0]-df.iloc[i][0])**2 + (third_cent_1[1]-df.iloc[i][1])**2)\n",
    "    third_cent_1_ls.append(pc1)\n",
    "third_cent_1_ls"
   ]
  },
  {
   "cell_type": "code",
   "execution_count": 31,
   "id": "5e2a8ba9",
   "metadata": {},
   "outputs": [
    {
     "data": {
      "text/plain": [
       "[17.867568385205637,\n",
       " 16.347782724271816,\n",
       " 16.62077013859466,\n",
       " 15.435349040433131,\n",
       " 1.8027756377319946,\n",
       " 1.8027756377319946,\n",
       " 2.0615528128088303,\n",
       " 2.0615528128088303]"
      ]
     },
     "execution_count": 31,
     "metadata": {},
     "output_type": "execute_result"
    }
   ],
   "source": [
    "third_cent_2_ls = []\n",
    "for i in range(8):\n",
    "    pc1 = np.sqrt((third_cent_2[0]-df.iloc[i][0])**2 + (third_cent_2[1]-df.iloc[i][1])**2)\n",
    "    third_cent_2_ls.append(pc1)\n",
    "third_cent_2_ls"
   ]
  },
  {
   "cell_type": "markdown",
   "id": "673fe24b",
   "metadata": {},
   "source": [
    "# Create 2 New Col and Add Third Centriod 1 & Third Centriod 2 in DataFrame:-"
   ]
  },
  {
   "cell_type": "code",
   "execution_count": 32,
   "id": "2f7bf375",
   "metadata": {},
   "outputs": [],
   "source": [
    "df1[\"third_Cent_1\"] = third_cent_1_ls\n",
    "df1[\"third_Cent_2\"] = third_cent_2_ls"
   ]
  },
  {
   "cell_type": "code",
   "execution_count": 33,
   "id": "2b9fe6cc",
   "metadata": {},
   "outputs": [
    {
     "data": {
      "text/html": [
       "<div>\n",
       "<style scoped>\n",
       "    .dataframe tbody tr th:only-of-type {\n",
       "        vertical-align: middle;\n",
       "    }\n",
       "\n",
       "    .dataframe tbody tr th {\n",
       "        vertical-align: top;\n",
       "    }\n",
       "\n",
       "    .dataframe thead th {\n",
       "        text-align: right;\n",
       "    }\n",
       "</style>\n",
       "<table border=\"1\" class=\"dataframe\">\n",
       "  <thead>\n",
       "    <tr style=\"text-align: right;\">\n",
       "      <th></th>\n",
       "      <th>Age</th>\n",
       "      <th>Spend_k</th>\n",
       "      <th>first_Cent_1</th>\n",
       "      <th>first_Cent_2</th>\n",
       "      <th>1st Cluster</th>\n",
       "      <th>second_Cent_1</th>\n",
       "      <th>second_Cent_2</th>\n",
       "      <th>2nd Cluster</th>\n",
       "      <th>third_Cent_1</th>\n",
       "      <th>third_Cent_2</th>\n",
       "    </tr>\n",
       "  </thead>\n",
       "  <tbody>\n",
       "    <tr>\n",
       "      <th>0</th>\n",
       "      <td>10</td>\n",
       "      <td>2</td>\n",
       "      <td>2.236068</td>\n",
       "      <td>16.492423</td>\n",
       "      <td>first_Cent_1</td>\n",
       "      <td>1.520691</td>\n",
       "      <td>17.867568</td>\n",
       "      <td>second_Cent_1</td>\n",
       "      <td>1.520691</td>\n",
       "      <td>17.867568</td>\n",
       "    </tr>\n",
       "    <tr>\n",
       "      <th>1</th>\n",
       "      <td>12</td>\n",
       "      <td>1</td>\n",
       "      <td>0.000000</td>\n",
       "      <td>14.866069</td>\n",
       "      <td>first_Cent_1</td>\n",
       "      <td>0.901388</td>\n",
       "      <td>16.347783</td>\n",
       "      <td>second_Cent_1</td>\n",
       "      <td>0.901388</td>\n",
       "      <td>16.347783</td>\n",
       "    </tr>\n",
       "    <tr>\n",
       "      <th>2</th>\n",
       "      <td>11</td>\n",
       "      <td>3</td>\n",
       "      <td>2.236068</td>\n",
       "      <td>15.297059</td>\n",
       "      <td>first_Cent_1</td>\n",
       "      <td>1.346291</td>\n",
       "      <td>16.620770</td>\n",
       "      <td>second_Cent_1</td>\n",
       "      <td>1.346291</td>\n",
       "      <td>16.620770</td>\n",
       "    </tr>\n",
       "    <tr>\n",
       "      <th>3</th>\n",
       "      <td>13</td>\n",
       "      <td>1</td>\n",
       "      <td>1.000000</td>\n",
       "      <td>13.928388</td>\n",
       "      <td>first_Cent_1</td>\n",
       "      <td>1.677051</td>\n",
       "      <td>15.435349</td>\n",
       "      <td>second_Cent_1</td>\n",
       "      <td>1.677051</td>\n",
       "      <td>15.435349</td>\n",
       "    </tr>\n",
       "    <tr>\n",
       "      <th>4</th>\n",
       "      <td>26</td>\n",
       "      <td>6</td>\n",
       "      <td>14.866069</td>\n",
       "      <td>0.000000</td>\n",
       "      <td>first_Cent_2</td>\n",
       "      <td>15.110013</td>\n",
       "      <td>1.802776</td>\n",
       "      <td>second_Cent_2</td>\n",
       "      <td>15.110013</td>\n",
       "      <td>1.802776</td>\n",
       "    </tr>\n",
       "    <tr>\n",
       "      <th>5</th>\n",
       "      <td>28</td>\n",
       "      <td>9</td>\n",
       "      <td>17.888544</td>\n",
       "      <td>3.605551</td>\n",
       "      <td>first_Cent_2</td>\n",
       "      <td>18.022555</td>\n",
       "      <td>1.802776</td>\n",
       "      <td>second_Cent_2</td>\n",
       "      <td>18.022555</td>\n",
       "      <td>1.802776</td>\n",
       "    </tr>\n",
       "    <tr>\n",
       "      <th>6</th>\n",
       "      <td>25</td>\n",
       "      <td>7</td>\n",
       "      <td>14.317821</td>\n",
       "      <td>1.414214</td>\n",
       "      <td>first_Cent_2</td>\n",
       "      <td>14.484906</td>\n",
       "      <td>2.061553</td>\n",
       "      <td>second_Cent_2</td>\n",
       "      <td>14.484906</td>\n",
       "      <td>2.061553</td>\n",
       "    </tr>\n",
       "    <tr>\n",
       "      <th>7</th>\n",
       "      <td>29</td>\n",
       "      <td>8</td>\n",
       "      <td>18.384776</td>\n",
       "      <td>3.605551</td>\n",
       "      <td>first_Cent_2</td>\n",
       "      <td>18.582586</td>\n",
       "      <td>2.061553</td>\n",
       "      <td>second_Cent_2</td>\n",
       "      <td>18.582586</td>\n",
       "      <td>2.061553</td>\n",
       "    </tr>\n",
       "  </tbody>\n",
       "</table>\n",
       "</div>"
      ],
      "text/plain": [
       "   Age  Spend_k  first_Cent_1  first_Cent_2   1st Cluster  second_Cent_1  \\\n",
       "0   10        2      2.236068     16.492423  first_Cent_1       1.520691   \n",
       "1   12        1      0.000000     14.866069  first_Cent_1       0.901388   \n",
       "2   11        3      2.236068     15.297059  first_Cent_1       1.346291   \n",
       "3   13        1      1.000000     13.928388  first_Cent_1       1.677051   \n",
       "4   26        6     14.866069      0.000000  first_Cent_2      15.110013   \n",
       "5   28        9     17.888544      3.605551  first_Cent_2      18.022555   \n",
       "6   25        7     14.317821      1.414214  first_Cent_2      14.484906   \n",
       "7   29        8     18.384776      3.605551  first_Cent_2      18.582586   \n",
       "\n",
       "   second_Cent_2    2nd Cluster  third_Cent_1  third_Cent_2  \n",
       "0      17.867568  second_Cent_1      1.520691     17.867568  \n",
       "1      16.347783  second_Cent_1      0.901388     16.347783  \n",
       "2      16.620770  second_Cent_1      1.346291     16.620770  \n",
       "3      15.435349  second_Cent_1      1.677051     15.435349  \n",
       "4       1.802776  second_Cent_2     15.110013      1.802776  \n",
       "5       1.802776  second_Cent_2     18.022555      1.802776  \n",
       "6       2.061553  second_Cent_2     14.484906      2.061553  \n",
       "7       2.061553  second_Cent_2     18.582586      2.061553  "
      ]
     },
     "execution_count": 33,
     "metadata": {},
     "output_type": "execute_result"
    }
   ],
   "source": [
    "df1"
   ]
  },
  {
   "cell_type": "markdown",
   "id": "eb021c43",
   "metadata": {},
   "source": [
    "# Third Create Cluster:-"
   ]
  },
  {
   "cell_type": "code",
   "execution_count": 34,
   "id": "fa3c2bc1",
   "metadata": {},
   "outputs": [],
   "source": [
    "clu3 = []\n",
    "for i in range(len(df1)):\n",
    "    a = df1.iloc[i,8:]\n",
    "    clu3.append(a.index[np.argmin(df1.iloc[i,8:])])"
   ]
  },
  {
   "cell_type": "code",
   "execution_count": 35,
   "id": "d3da20f0",
   "metadata": {},
   "outputs": [],
   "source": [
    "df1[\"3rd Cluster\"] = clu3"
   ]
  },
  {
   "cell_type": "code",
   "execution_count": 36,
   "id": "e43eb946",
   "metadata": {},
   "outputs": [
    {
     "data": {
      "text/html": [
       "<div>\n",
       "<style scoped>\n",
       "    .dataframe tbody tr th:only-of-type {\n",
       "        vertical-align: middle;\n",
       "    }\n",
       "\n",
       "    .dataframe tbody tr th {\n",
       "        vertical-align: top;\n",
       "    }\n",
       "\n",
       "    .dataframe thead th {\n",
       "        text-align: right;\n",
       "    }\n",
       "</style>\n",
       "<table border=\"1\" class=\"dataframe\">\n",
       "  <thead>\n",
       "    <tr style=\"text-align: right;\">\n",
       "      <th></th>\n",
       "      <th>Age</th>\n",
       "      <th>Spend_k</th>\n",
       "      <th>first_Cent_1</th>\n",
       "      <th>first_Cent_2</th>\n",
       "      <th>1st Cluster</th>\n",
       "      <th>second_Cent_1</th>\n",
       "      <th>second_Cent_2</th>\n",
       "      <th>2nd Cluster</th>\n",
       "      <th>third_Cent_1</th>\n",
       "      <th>third_Cent_2</th>\n",
       "      <th>3rd Cluster</th>\n",
       "    </tr>\n",
       "  </thead>\n",
       "  <tbody>\n",
       "    <tr>\n",
       "      <th>0</th>\n",
       "      <td>10</td>\n",
       "      <td>2</td>\n",
       "      <td>2.236068</td>\n",
       "      <td>16.492423</td>\n",
       "      <td>first_Cent_1</td>\n",
       "      <td>1.520691</td>\n",
       "      <td>17.867568</td>\n",
       "      <td>second_Cent_1</td>\n",
       "      <td>1.520691</td>\n",
       "      <td>17.867568</td>\n",
       "      <td>third_Cent_1</td>\n",
       "    </tr>\n",
       "    <tr>\n",
       "      <th>1</th>\n",
       "      <td>12</td>\n",
       "      <td>1</td>\n",
       "      <td>0.000000</td>\n",
       "      <td>14.866069</td>\n",
       "      <td>first_Cent_1</td>\n",
       "      <td>0.901388</td>\n",
       "      <td>16.347783</td>\n",
       "      <td>second_Cent_1</td>\n",
       "      <td>0.901388</td>\n",
       "      <td>16.347783</td>\n",
       "      <td>third_Cent_1</td>\n",
       "    </tr>\n",
       "    <tr>\n",
       "      <th>2</th>\n",
       "      <td>11</td>\n",
       "      <td>3</td>\n",
       "      <td>2.236068</td>\n",
       "      <td>15.297059</td>\n",
       "      <td>first_Cent_1</td>\n",
       "      <td>1.346291</td>\n",
       "      <td>16.620770</td>\n",
       "      <td>second_Cent_1</td>\n",
       "      <td>1.346291</td>\n",
       "      <td>16.620770</td>\n",
       "      <td>third_Cent_1</td>\n",
       "    </tr>\n",
       "    <tr>\n",
       "      <th>3</th>\n",
       "      <td>13</td>\n",
       "      <td>1</td>\n",
       "      <td>1.000000</td>\n",
       "      <td>13.928388</td>\n",
       "      <td>first_Cent_1</td>\n",
       "      <td>1.677051</td>\n",
       "      <td>15.435349</td>\n",
       "      <td>second_Cent_1</td>\n",
       "      <td>1.677051</td>\n",
       "      <td>15.435349</td>\n",
       "      <td>third_Cent_1</td>\n",
       "    </tr>\n",
       "    <tr>\n",
       "      <th>4</th>\n",
       "      <td>26</td>\n",
       "      <td>6</td>\n",
       "      <td>14.866069</td>\n",
       "      <td>0.000000</td>\n",
       "      <td>first_Cent_2</td>\n",
       "      <td>15.110013</td>\n",
       "      <td>1.802776</td>\n",
       "      <td>second_Cent_2</td>\n",
       "      <td>15.110013</td>\n",
       "      <td>1.802776</td>\n",
       "      <td>third_Cent_2</td>\n",
       "    </tr>\n",
       "    <tr>\n",
       "      <th>5</th>\n",
       "      <td>28</td>\n",
       "      <td>9</td>\n",
       "      <td>17.888544</td>\n",
       "      <td>3.605551</td>\n",
       "      <td>first_Cent_2</td>\n",
       "      <td>18.022555</td>\n",
       "      <td>1.802776</td>\n",
       "      <td>second_Cent_2</td>\n",
       "      <td>18.022555</td>\n",
       "      <td>1.802776</td>\n",
       "      <td>third_Cent_2</td>\n",
       "    </tr>\n",
       "    <tr>\n",
       "      <th>6</th>\n",
       "      <td>25</td>\n",
       "      <td>7</td>\n",
       "      <td>14.317821</td>\n",
       "      <td>1.414214</td>\n",
       "      <td>first_Cent_2</td>\n",
       "      <td>14.484906</td>\n",
       "      <td>2.061553</td>\n",
       "      <td>second_Cent_2</td>\n",
       "      <td>14.484906</td>\n",
       "      <td>2.061553</td>\n",
       "      <td>third_Cent_2</td>\n",
       "    </tr>\n",
       "    <tr>\n",
       "      <th>7</th>\n",
       "      <td>29</td>\n",
       "      <td>8</td>\n",
       "      <td>18.384776</td>\n",
       "      <td>3.605551</td>\n",
       "      <td>first_Cent_2</td>\n",
       "      <td>18.582586</td>\n",
       "      <td>2.061553</td>\n",
       "      <td>second_Cent_2</td>\n",
       "      <td>18.582586</td>\n",
       "      <td>2.061553</td>\n",
       "      <td>third_Cent_2</td>\n",
       "    </tr>\n",
       "  </tbody>\n",
       "</table>\n",
       "</div>"
      ],
      "text/plain": [
       "   Age  Spend_k  first_Cent_1  first_Cent_2   1st Cluster  second_Cent_1  \\\n",
       "0   10        2      2.236068     16.492423  first_Cent_1       1.520691   \n",
       "1   12        1      0.000000     14.866069  first_Cent_1       0.901388   \n",
       "2   11        3      2.236068     15.297059  first_Cent_1       1.346291   \n",
       "3   13        1      1.000000     13.928388  first_Cent_1       1.677051   \n",
       "4   26        6     14.866069      0.000000  first_Cent_2      15.110013   \n",
       "5   28        9     17.888544      3.605551  first_Cent_2      18.022555   \n",
       "6   25        7     14.317821      1.414214  first_Cent_2      14.484906   \n",
       "7   29        8     18.384776      3.605551  first_Cent_2      18.582586   \n",
       "\n",
       "   second_Cent_2    2nd Cluster  third_Cent_1  third_Cent_2   3rd Cluster  \n",
       "0      17.867568  second_Cent_1      1.520691     17.867568  third_Cent_1  \n",
       "1      16.347783  second_Cent_1      0.901388     16.347783  third_Cent_1  \n",
       "2      16.620770  second_Cent_1      1.346291     16.620770  third_Cent_1  \n",
       "3      15.435349  second_Cent_1      1.677051     15.435349  third_Cent_1  \n",
       "4       1.802776  second_Cent_2     15.110013      1.802776  third_Cent_2  \n",
       "5       1.802776  second_Cent_2     18.022555      1.802776  third_Cent_2  \n",
       "6       2.061553  second_Cent_2     14.484906      2.061553  third_Cent_2  \n",
       "7       2.061553  second_Cent_2     18.582586      2.061553  third_Cent_2  "
      ]
     },
     "execution_count": 36,
     "metadata": {},
     "output_type": "execute_result"
    }
   ],
   "source": [
    "df1"
   ]
  },
  {
   "cell_type": "markdown",
   "id": "5c5e8a92",
   "metadata": {},
   "source": [
    "# Draw 3rd Centroid Point IN Scatter Plot:-"
   ]
  },
  {
   "cell_type": "code",
   "execution_count": 37,
   "id": "72650b45",
   "metadata": {},
   "outputs": [
    {
     "data": {
      "image/png": "[encoded data removed]",
      "text/plain": [
       "<Figure size 640x480 with 1 Axes>"
      ]
     },
     "metadata": {},
     "output_type": "display_data"
    }
   ],
   "source": [
    "plt.scatter(df1[\"Age\"], df1[\"Spend_k\"])\n",
    "plt.scatter(first_cent_1[0], first_cent_1[1], color=\"red\")\n",
    "plt.scatter(first_cent_2[0], first_cent_2[1], color=\"red\")\n",
    "\n",
    "plt.scatter(second_cent_1[0], second_cent_1[1], color=\"blue\")\n",
    "plt.scatter(second_cent_2[0], second_cent_2[1], color=\"blue\")\n",
    "\n",
    "plt.scatter(third_cent_1[0], third_cent_1[1], color=\"green\")\n",
    "plt.scatter(third_cent_2[0], third_cent_2[1], color=\"green\")\n",
    "plt.show()"
   ]
  },
  {
   "cell_type": "code",
   "execution_count": null,
   "id": "6f90dbe9",
   "metadata": {},
   "outputs": [],
   "source": []
  }
 ],
 "metadata": {
  "kernelspec": {
   "display_name": "Python 3 (ipykernel)",
   "language": "python",
   "name": "python3"
  },
  "language_info": {
   "codemirror_mode": {
    "name": "ipython",
    "version": 3
   },
   "file_extension": ".py",
   "mimetype": "text/x-python",
   "name": "python",
   "nbconvert_exporter": "python",
   "pygments_lexer": "ipython3",
   "version": "3.9.13"
  }
 },
 "nbformat": 4,
 "nbformat_minor": 5
}
